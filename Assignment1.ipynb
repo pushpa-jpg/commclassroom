{
 "cells": [
  {
   "cell_type": "markdown",
   "metadata": {},
   "source": [
    "### Instructions (Read carefully):\n",
    "1. Only **basic python** and **\"re\"** libraries are allowed unless clear and explicit instructions are provided asking to use specific libraries. If you have any confusion what functions are permitted, you must get confirmation from the instructor prior to using in your assignment.\n",
    "2. All codes must be run and the outputs be printed in the submitted notebook. Any answer without an output will get zero credits.\n",
    "3. In addition to jupyter notebook, submit a pdf version of it. To do this, go to \"File\", then to \"Download as\". Select either \"pdf via Latex\" or \"pdf via HTML\" to download a pdf version of your assignment. If you encounter any error, follow the instructions to install all necessary packages.\n",
    "4. The work you will submit must be your own. If you need help in understanding the task, reach out to me.  \n",
    "\n",
    "In this assigment, your task is to apply regular expressions for various text processing tasks."
   ]
  },
  {
   "cell_type": "markdown",
   "metadata": {},
   "source": [
    "#### Q1\n",
    "Consider the excerpts below from news articles from CNN Business on Apple event held on September 14, 2021."
   ]
  },
  {
   "cell_type": "code",
   "execution_count": 1,
   "metadata": {},
   "outputs": [],
   "source": [
    "EVStartups = \"\"\"Sept. 7, 2022 5:30 am ET\n",
    "Electric-vehicle startups had a rip-roaring 2021 as investors placed bets on which would be the next Tesla Inc.  This year has been more like a pileup on the track.\n",
    "Struggling electric-vehicle startups such as Rivian and Lucid are cutting spending to preserve cash amid high costs and stiffer competition from the likes of Tesla and other EV companies.\n",
    "Tesla would not only survive but thrive with a significant first-mover advantage. Once launched, the Model 3 and subsequent Model Y SUV dominated electric-vehicle sales in the U.S. Even with new competition from other auto makers, the Models 3 and Y still accounted for 60% of U.S. electric-vehicle sales this year through August, according to industry data firm Motor Intelligence. And Tesla’s sales volumes allowed it to sell more than $3 billion worth of regulatory credits to other auto makers who lacked significant electric sales of their own in 2020 and 2021.The most valuable new startups are rolling out their first models in a very different environment, looking to establish a foothold against much stiffer competition from legacy brands.\n",
    "“That thesis relied on legacy auto apathy that is no longer the case,” he said.Shares in Rivian Automotive Inc., which raised $12 billion in November in the largest U.S. IPO since 2014, are down 68% in 2022. The company’s R1T electric pickup was the first of its kind on the market when it began selling last September. Irvine, Calif.-based Rivian said it built about 7,000 of its vehicles through the first half of the year, a rate it needs to more than double in the second half if the company is to meet an already-halved target of 25,000 vehicles produced in 2022. \n",
    "\"\"\""
   ]
  },
  {
   "cell_type": "code",
   "execution_count": 2,
   "metadata": {},
   "outputs": [
    {
     "name": "stdout",
     "output_type": "stream",
     "text": [
      "Sept. 7, 2022 5:30 am ET\n",
      "Electric-vehicle startups had a rip-roaring 2021 as investors placed bets on which would be the next Tesla Inc.  This year has been more like a pileup on the track.\n",
      "Struggling electric-vehicle startups such as Rivian and Lucid are cutting spending to preserve cash amid high costs and stiffer competition from the likes of Tesla and other EV companies.\n",
      "Tesla would not only survive but thrive with a significant first-mover advantage. Once launched, the Model 3 and subsequent Model Y SUV dominated electric-vehicle sales in the U.S. Even with new competition from other auto makers, the Models 3 and Y still accounted for 60% of U.S. electric-vehicle sales this year through August, according to industry data firm Motor Intelligence. And Tesla’s sales volumes allowed it to sell more than $3 billion worth of regulatory credits to other auto makers who lacked significant electric sales of their own in 2020 and 2021.The most valuable new startups are rolling out their first models in a very different environment, looking to establish a foothold against much stiffer competition from legacy brands.\n",
      "“That thesis relied on legacy auto apathy that is no longer the case,” he said.Shares in Rivian Automotive Inc., which raised $12 billion in November in the largest U.S. IPO since 2014, are down 68% in 2022. The company’s R1T electric pickup was the first of its kind on the market when it began selling last September. Irvine, Calif.-based Rivian said it built about 7,000 of its vehicles through the first half of the year, a rate it needs to more than double in the second half if the company is to meet an already-halved target of 25,000 vehicles produced in 2022. \n",
      "\n"
     ]
    }
   ],
   "source": [
    "print(EVStartups)"
   ]
  },
  {
   "cell_type": "markdown",
   "metadata": {},
   "source": [
    "a) Tokenize the text into tokens such that\n",
    "* Time and date e.g., Sept. 7, 2022 5:30 am ET, is tokenized together as single tokens.\n",
    "* Dollar ($\\$$) and percentage ($\\%$) symbols are grouped with the numbers. For example \"$199\" and \"20\\%\".\n",
    "* Each model name is a single token, e.g., \"Model 3\", \"Model Y\".\n",
    "* Hyphenated words form a single token, e.g., \"all-day\".\n",
    "* A clitic is separated as a token. That means, \"didn't\" will be tokenized as \"did\" and (\"n't\"), TTesla's will be toeknezied as Tesla and 's\n",
    "* Punctuation marks and symbols are tokenized as separate tokens unless explicitly mentioned to treat them differently."
   ]
  },
  {
   "cell_type": "code",
   "execution_count": 3,
   "metadata": {},
   "outputs": [],
   "source": [
    "import re\n"
   ]
  },
  {
   "cell_type": "code",
   "execution_count": 160,
   "metadata": {},
   "outputs": [
    {
     "data": {
      "text/plain": [
       "['Sept. 7, 2022 5:30 am ET',\n",
       " 'Electric-vehicle',\n",
       " 'startups',\n",
       " 'had',\n",
       " 'rip-roaring',\n",
       " '2021',\n",
       " 'as',\n",
       " 'investors',\n",
       " 'placed',\n",
       " 'bets',\n",
       " 'on',\n",
       " 'which',\n",
       " 'would',\n",
       " 'be',\n",
       " 'the',\n",
       " 'next',\n",
       " 'Tesla',\n",
       " 'Inc',\n",
       " 'This',\n",
       " 'year',\n",
       " 'has',\n",
       " 'been',\n",
       " 'more',\n",
       " 'like',\n",
       " 'pileup',\n",
       " 'on',\n",
       " 'the',\n",
       " 'track',\n",
       " 'Struggling',\n",
       " 'electric-vehicle',\n",
       " 'startups',\n",
       " 'such',\n",
       " 'as',\n",
       " 'Rivian',\n",
       " 'and',\n",
       " 'Lucid',\n",
       " 'are',\n",
       " 'cutting',\n",
       " 'spending',\n",
       " 'to',\n",
       " 'preserve',\n",
       " 'cash',\n",
       " 'amid',\n",
       " 'high',\n",
       " 'costs',\n",
       " 'and',\n",
       " 'stiffer',\n",
       " 'competition',\n",
       " 'from',\n",
       " 'the',\n",
       " 'likes',\n",
       " 'of',\n",
       " 'Tesla',\n",
       " 'and',\n",
       " 'other',\n",
       " 'EV',\n",
       " 'companies',\n",
       " 'Tesla',\n",
       " 'would',\n",
       " 'not',\n",
       " 'only',\n",
       " 'survive',\n",
       " 'but',\n",
       " 'thrive',\n",
       " 'with',\n",
       " 'significant',\n",
       " 'first-mover',\n",
       " 'advantage',\n",
       " 'Once',\n",
       " 'launched',\n",
       " 'the',\n",
       " 'Model 3',\n",
       " 'and',\n",
       " 'subsequent',\n",
       " 'Model Y',\n",
       " 'SUV',\n",
       " 'dominated',\n",
       " 'electric-vehicle',\n",
       " 'sales',\n",
       " 'in',\n",
       " 'the',\n",
       " 'Even',\n",
       " 'with',\n",
       " 'new',\n",
       " 'competition',\n",
       " 'from',\n",
       " 'other',\n",
       " 'auto',\n",
       " 'makers',\n",
       " 'the',\n",
       " 'Models',\n",
       " '3',\n",
       " 'and',\n",
       " 'still',\n",
       " 'accounted',\n",
       " 'for',\n",
       " '60%',\n",
       " 'of',\n",
       " 'electric-vehicle',\n",
       " 'sales',\n",
       " 'this',\n",
       " 'year',\n",
       " 'through',\n",
       " 'August',\n",
       " 'according',\n",
       " 'to',\n",
       " 'industry',\n",
       " 'data',\n",
       " 'firm',\n",
       " 'Motor',\n",
       " 'Intelligence',\n",
       " 'And',\n",
       " 'Tesla',\n",
       " 'sales',\n",
       " 'volumes',\n",
       " 'allowed',\n",
       " 'it',\n",
       " 'to',\n",
       " 'sell',\n",
       " 'more',\n",
       " 'than',\n",
       " '$3',\n",
       " 'billion',\n",
       " 'worth',\n",
       " 'of',\n",
       " 'regulatory',\n",
       " 'credits',\n",
       " 'to',\n",
       " 'other',\n",
       " 'auto',\n",
       " 'makers',\n",
       " 'who',\n",
       " 'lacked',\n",
       " 'significant',\n",
       " 'electric',\n",
       " 'sales',\n",
       " 'of',\n",
       " 'their',\n",
       " 'own',\n",
       " 'in',\n",
       " '2020',\n",
       " 'and',\n",
       " '2021',\n",
       " 'The',\n",
       " 'most',\n",
       " 'valuable',\n",
       " 'new',\n",
       " 'startups',\n",
       " 'are',\n",
       " 'rolling',\n",
       " 'out',\n",
       " 'their',\n",
       " 'first',\n",
       " 'models',\n",
       " 'in',\n",
       " 'very',\n",
       " 'different',\n",
       " 'environment',\n",
       " 'looking',\n",
       " 'to',\n",
       " 'establish',\n",
       " 'foothold',\n",
       " 'against',\n",
       " 'much',\n",
       " 'stiffer',\n",
       " 'competition',\n",
       " 'from',\n",
       " 'legacy',\n",
       " 'brands',\n",
       " 'That',\n",
       " 'thesis',\n",
       " 'relied',\n",
       " 'on',\n",
       " 'legacy',\n",
       " 'auto',\n",
       " 'apathy',\n",
       " 'that',\n",
       " 'is',\n",
       " 'no',\n",
       " 'longer',\n",
       " 'the',\n",
       " 'case',\n",
       " 'he',\n",
       " 'said',\n",
       " 'Shares',\n",
       " 'in',\n",
       " 'Rivian',\n",
       " 'Automotive',\n",
       " 'Inc',\n",
       " 'which',\n",
       " 'raised',\n",
       " '$12',\n",
       " 'billion',\n",
       " 'in',\n",
       " 'November',\n",
       " 'in',\n",
       " 'the',\n",
       " 'largest',\n",
       " 'IPO',\n",
       " 'since',\n",
       " '2014',\n",
       " 'are',\n",
       " 'down',\n",
       " '68%',\n",
       " 'in',\n",
       " '2022',\n",
       " 'The',\n",
       " 'company',\n",
       " 'R1T',\n",
       " 'electric',\n",
       " 'pickup',\n",
       " 'was',\n",
       " 'the',\n",
       " 'first',\n",
       " 'of',\n",
       " 'its',\n",
       " 'kind',\n",
       " 'on',\n",
       " 'the',\n",
       " 'market',\n",
       " 'when',\n",
       " 'it',\n",
       " 'began',\n",
       " 'selling',\n",
       " 'last',\n",
       " 'September',\n",
       " 'Irvine',\n",
       " 'Calif',\n",
       " 'based',\n",
       " 'Rivian',\n",
       " 'said',\n",
       " 'it',\n",
       " 'built',\n",
       " 'about',\n",
       " '7',\n",
       " '000',\n",
       " 'of',\n",
       " 'its',\n",
       " 'vehicles',\n",
       " 'through',\n",
       " 'the',\n",
       " 'first',\n",
       " 'half',\n",
       " 'of',\n",
       " 'the',\n",
       " 'year',\n",
       " 'rate',\n",
       " 'it',\n",
       " 'needs',\n",
       " 'to',\n",
       " 'more',\n",
       " 'than',\n",
       " 'double',\n",
       " 'in',\n",
       " 'the',\n",
       " 'second',\n",
       " 'half',\n",
       " 'if',\n",
       " 'the',\n",
       " 'company',\n",
       " 'is',\n",
       " 'to',\n",
       " 'meet',\n",
       " 'an',\n",
       " 'already-halved',\n",
       " 'target',\n",
       " 'of',\n",
       " '25',\n",
       " '000',\n",
       " 'vehicles',\n",
       " 'produced',\n",
       " 'in',\n",
       " '2022']"
      ]
     },
     "execution_count": 160,
     "metadata": {},
     "output_type": "execute_result"
    }
   ],
   "source": [
    "p1='\\w+[\\.][ ]?\\d{1,2}[,]{1}[ ]?\\d{4}[ ]?\\d{1}:{1}\\d{2}[ ]?am{1}[ ]?ET{1}'\n",
    "p2='\\$?\\d+\\%?'\n",
    "p3='Model [A-Z]?[0-9]?'\n",
    "p4='\\w+-?\\w+'\n",
    "my_list = re.compile(r'\\w+[\\.][ ]?\\d{1,2}[,]{1}[ ]?\\d{4}[ ]?\\d{1}:{1}\\d{2}[ ]?am{1}[ ]?ET{1}|\\$?\\d+\\%?|Model [A-Z]?[0-9]?|\\w+-?\\w+').findall(EVStartups)\n",
    "#re.compile(r'pattern',(p1,p2,p3,p4)).findall(EVStartups)\n",
    "my_list"
   ]
  },
  {
   "cell_type": "markdown",
   "metadata": {},
   "source": [
    "b) (i) Create a vocabulary from tokens and count their occurrences. Sort the word types by the frequency."
   ]
  },
  {
   "cell_type": "code",
   "execution_count": 171,
   "metadata": {},
   "outputs": [],
   "source": [
    "my_dict={}\n",
    "for token in my_list:\n",
    "    if token in my_dict.keys():\n",
    "        my_dict[token] = my_dict[token]+1\n",
    "    else:\n",
    "        my_dict[token] = 1\n",
    "pairs = {(value,key) for (key,value) in my_dict.items()}\n",
    "temp = sorted(pairs,reverse=True)\n",
    "my_dict_sorted = {key:value for value,key in temp}"
   ]
  },
  {
   "cell_type": "code",
   "execution_count": 172,
   "metadata": {},
   "outputs": [
    {
     "data": {
      "text/plain": [
       "{'the': 14,\n",
       " 'in': 9,\n",
       " 'of': 8,\n",
       " 'to': 7,\n",
       " 'and': 6,\n",
       " 'sales': 4,\n",
       " 'on': 4,\n",
       " 'it': 4,\n",
       " 'Tesla': 4,\n",
       " 'year': 3,\n",
       " 'startups': 3,\n",
       " 'other': 3,\n",
       " 'more': 3,\n",
       " 'from': 3,\n",
       " 'first': 3,\n",
       " 'electric-vehicle': 3,\n",
       " 'competition': 3,\n",
       " 'auto': 3,\n",
       " 'are': 3,\n",
       " 'Rivian': 3,\n",
       " 'would': 2,\n",
       " 'with': 2,\n",
       " 'which': 2,\n",
       " 'vehicles': 2,\n",
       " 'through': 2,\n",
       " 'their': 2,\n",
       " 'than': 2,\n",
       " 'stiffer': 2,\n",
       " 'significant': 2,\n",
       " 'said': 2,\n",
       " 'new': 2,\n",
       " 'makers': 2,\n",
       " 'legacy': 2,\n",
       " 'its': 2,\n",
       " 'is': 2,\n",
       " 'half': 2,\n",
       " 'electric': 2,\n",
       " 'company': 2,\n",
       " 'billion': 2,\n",
       " 'as': 2,\n",
       " 'The': 2,\n",
       " 'Inc': 2,\n",
       " '2022': 2,\n",
       " '2021': 2,\n",
       " '000': 2,\n",
       " 'worth': 1,\n",
       " 'who': 1,\n",
       " 'when': 1,\n",
       " 'was': 1,\n",
       " 'volumes': 1,\n",
       " 'very': 1,\n",
       " 'valuable': 1,\n",
       " 'track': 1,\n",
       " 'thrive': 1,\n",
       " 'this': 1,\n",
       " 'thesis': 1,\n",
       " 'that': 1,\n",
       " 'target': 1,\n",
       " 'survive': 1,\n",
       " 'such': 1,\n",
       " 'subsequent': 1,\n",
       " 'still': 1,\n",
       " 'spending': 1,\n",
       " 'since': 1,\n",
       " 'selling': 1,\n",
       " 'sell': 1,\n",
       " 'second': 1,\n",
       " 'rolling': 1,\n",
       " 'rip-roaring': 1,\n",
       " 'relied': 1,\n",
       " 'regulatory': 1,\n",
       " 'rate': 1,\n",
       " 'raised': 1,\n",
       " 'produced': 1,\n",
       " 'preserve': 1,\n",
       " 'placed': 1,\n",
       " 'pileup': 1,\n",
       " 'pickup': 1,\n",
       " 'own': 1,\n",
       " 'out': 1,\n",
       " 'only': 1,\n",
       " 'not': 1,\n",
       " 'no': 1,\n",
       " 'next': 1,\n",
       " 'needs': 1,\n",
       " 'much': 1,\n",
       " 'most': 1,\n",
       " 'models': 1,\n",
       " 'meet': 1,\n",
       " 'market': 1,\n",
       " 'looking': 1,\n",
       " 'longer': 1,\n",
       " 'likes': 1,\n",
       " 'like': 1,\n",
       " 'launched': 1,\n",
       " 'last': 1,\n",
       " 'largest': 1,\n",
       " 'lacked': 1,\n",
       " 'kind': 1,\n",
       " 'investors': 1,\n",
       " 'industry': 1,\n",
       " 'if': 1,\n",
       " 'high': 1,\n",
       " 'he': 1,\n",
       " 'has': 1,\n",
       " 'had': 1,\n",
       " 'for': 1,\n",
       " 'foothold': 1,\n",
       " 'first-mover': 1,\n",
       " 'firm': 1,\n",
       " 'establish': 1,\n",
       " 'environment': 1,\n",
       " 'down': 1,\n",
       " 'double': 1,\n",
       " 'dominated': 1,\n",
       " 'different': 1,\n",
       " 'data': 1,\n",
       " 'cutting': 1,\n",
       " 'credits': 1,\n",
       " 'costs': 1,\n",
       " 'companies': 1,\n",
       " 'cash': 1,\n",
       " 'case': 1,\n",
       " 'but': 1,\n",
       " 'built': 1,\n",
       " 'brands': 1,\n",
       " 'bets': 1,\n",
       " 'began': 1,\n",
       " 'been': 1,\n",
       " 'be': 1,\n",
       " 'based': 1,\n",
       " 'apathy': 1,\n",
       " 'an': 1,\n",
       " 'amid': 1,\n",
       " 'already-halved': 1,\n",
       " 'allowed': 1,\n",
       " 'against': 1,\n",
       " 'advantage': 1,\n",
       " 'accounted': 1,\n",
       " 'according': 1,\n",
       " 'about': 1,\n",
       " 'This': 1,\n",
       " 'That': 1,\n",
       " 'Struggling': 1,\n",
       " 'Shares': 1,\n",
       " 'September': 1,\n",
       " 'Sept. 7, 2022 5:30 am ET': 1,\n",
       " 'SUV': 1,\n",
       " 'R1T': 1,\n",
       " 'Once': 1,\n",
       " 'November': 1,\n",
       " 'Motor': 1,\n",
       " 'Models': 1,\n",
       " 'Model Y': 1,\n",
       " 'Model 3': 1,\n",
       " 'Lucid': 1,\n",
       " 'Irvine': 1,\n",
       " 'Intelligence': 1,\n",
       " 'IPO': 1,\n",
       " 'Even': 1,\n",
       " 'Electric-vehicle': 1,\n",
       " 'EV': 1,\n",
       " 'Calif': 1,\n",
       " 'Automotive': 1,\n",
       " 'August': 1,\n",
       " 'And': 1,\n",
       " '7': 1,\n",
       " '68%': 1,\n",
       " '60%': 1,\n",
       " '3': 1,\n",
       " '25': 1,\n",
       " '2020': 1,\n",
       " '2014': 1,\n",
       " '$3': 1,\n",
       " '$12': 1}"
      ]
     },
     "execution_count": 172,
     "metadata": {},
     "output_type": "execute_result"
    }
   ],
   "source": [
    "my_dict_sorted"
   ]
  },
  {
   "cell_type": "markdown",
   "metadata": {},
   "source": [
    "b(ii) Discuss what the frequency tells about the word distribution.\n"
   ]
  },
  {
   "cell_type": "markdown",
   "metadata": {},
   "source": [
    "#### Q2\n",
    "Desinge a regex with positive lookahead to select the first 3 words of the a sentences if it contain numbers. Apply the regex to the following sentences."
   ]
  },
  {
   "cell_type": "code",
   "execution_count": 65,
   "metadata": {},
   "outputs": [],
   "source": [
    "sent1 = \"\"\"Rivian reported finishing the second quarter with about $15.5 billion in cash and cash equivalents on hand. \"\"\"\n",
    "sent2 = \"\"\"But without the potential for Tesla’s early market domination, nor the billions the company earned from selling credits, EV newcomers may never reach the kind of valuation investors were hoping for this time last year. \"\"\""
   ]
  },
  {
   "cell_type": "code",
   "execution_count": 113,
   "metadata": {},
   "outputs": [
    {
     "name": "stdout",
     "output_type": "stream",
     "text": [
      "Rivian reported finishing the second quarter with about $15.5 billion in cash and cash equivalents on hand. \n",
      "But without the potential for Tesla’s early market domination, nor the billions the company earned from selling credits, EV newcomers may never reach the kind of valuation investors were hoping for this time last year. \n"
     ]
    }
   ],
   "source": [
    "print(sent1)\n",
    "print(sent2)"
   ]
  },
  {
   "cell_type": "code",
   "execution_count": 175,
   "metadata": {},
   "outputs": [
    {
     "name": "stdout",
     "output_type": "stream",
     "text": [
      "applying regex on first sentence <re.Match object; span=(0, 26), match='Rivian reported finishing '>\n",
      "applying regex on second sentence None\n"
     ]
    }
   ],
   "source": [
    "print(\"applying regex on first sentence\",re.search(r'^(\\w+\\s+){3}(?=[^\\d]*\\d+)',sent1))\n",
    "print(\"applying regex on second sentence\",re.search(r'^(\\w+\\s+){3}(?=[^\\d]*\\d+)',sent2))"
   ]
  },
  {
   "cell_type": "markdown",
   "metadata": {},
   "source": [
    "#### Q3\n",
    "Use \"Spacy\" library for this question. The library need to be installed if you do not have it already. See installation instructions here https://spacy.io/usage.\n",
    "\n",
    "Consider the following text."
   ]
  },
  {
   "cell_type": "code",
   "execution_count": 133,
   "metadata": {},
   "outputs": [],
   "source": [
    "Q3text = \"\"\"Rivian reported finishing the second quarter with about $15.5 billion in cash and cash equivalents on hand. Lucid, which reported $4.6 billion cash on hand at the end of June, filed a shelf agreement last week that it said would allow it to raise an additional $8 billion over the next three years. \"\"\""
   ]
  },
  {
   "cell_type": "code",
   "execution_count": 134,
   "metadata": {},
   "outputs": [
    {
     "name": "stdout",
     "output_type": "stream",
     "text": [
      "Rivian reported finishing the second quarter with about $15.5 billion in cash and cash equivalents on hand. Lucid, which reported $4.6 billion cash on hand at the end of June, filed a shelf agreement last week that it said would allow it to raise an additional $8 billion over the next three years. \n"
     ]
    }
   ],
   "source": [
    "print(Q3text)"
   ]
  },
  {
   "cell_type": "markdown",
   "metadata": {},
   "source": [
    "a) Use \"Spacy\" to semgment the text into sentences. See examples at https://spacy.io/usage/linguistic-features#sbd. Put the output in a list of strings, where each string is a sentence."
   ]
  },
  {
   "cell_type": "code",
   "execution_count": 161,
   "metadata": {},
   "outputs": [],
   "source": [
    "import spacy\n",
    "nlp = spacy.load(\"en_core_web_sm\")\n",
    "text = nlp(Q3text)\n",
    "my_list1 = [sent.text for sent in text.sents]"
   ]
  },
  {
   "cell_type": "code",
   "execution_count": 162,
   "metadata": {},
   "outputs": [
    {
     "data": {
      "text/plain": [
       "['Rivian reported finishing the second quarter with about $15.5 billion in cash and cash equivalents on hand.',\n",
       " 'Lucid, which reported $4.6 billion cash on hand at the end of June, filed a shelf agreement last week that it said would allow it to raise an additional $8 billion over the next three years.\\xa0']"
      ]
     },
     "execution_count": 162,
     "metadata": {},
     "output_type": "execute_result"
    }
   ],
   "source": [
    "my_list1"
   ]
  },
  {
   "cell_type": "markdown",
   "metadata": {},
   "source": [
    "b) Use \"Spacy\" to tokenize each sentences. See examples at https://spacy.io/usage/linguistic-features#tokenization. "
   ]
  },
  {
   "cell_type": "code",
   "execution_count": 149,
   "metadata": {},
   "outputs": [
    {
     "data": {
      "text/plain": [
       "['Rivian',\n",
       " 'reported',\n",
       " 'finishing',\n",
       " 'the',\n",
       " 'second',\n",
       " 'quarter',\n",
       " 'with',\n",
       " 'about',\n",
       " '$',\n",
       " '15.5',\n",
       " 'billion',\n",
       " 'in',\n",
       " 'cash',\n",
       " 'and',\n",
       " 'cash',\n",
       " 'equivalents',\n",
       " 'on',\n",
       " 'hand',\n",
       " '.',\n",
       " 'Lucid',\n",
       " ',',\n",
       " 'which',\n",
       " 'reported',\n",
       " '$',\n",
       " '4.6',\n",
       " 'billion',\n",
       " 'cash',\n",
       " 'on',\n",
       " 'hand',\n",
       " 'at',\n",
       " 'the',\n",
       " 'end',\n",
       " 'of',\n",
       " 'June',\n",
       " ',',\n",
       " 'filed',\n",
       " 'a',\n",
       " 'shelf',\n",
       " 'agreement',\n",
       " 'last',\n",
       " 'week',\n",
       " 'that',\n",
       " 'it',\n",
       " 'said',\n",
       " 'would',\n",
       " 'allow',\n",
       " 'it',\n",
       " 'to',\n",
       " 'raise',\n",
       " 'an',\n",
       " 'additional',\n",
       " '$',\n",
       " '8',\n",
       " 'billion',\n",
       " 'over',\n",
       " 'the',\n",
       " 'next',\n",
       " 'three',\n",
       " 'years',\n",
       " '.',\n",
       " '\\xa0']"
      ]
     },
     "execution_count": 149,
     "metadata": {},
     "output_type": "execute_result"
    }
   ],
   "source": [
    "doc = nlp(Q3text)\n",
    "my_token=[token.text for token in doc]\n",
    "my_token"
   ]
  },
  {
   "cell_type": "code",
   "execution_count": null,
   "metadata": {},
   "outputs": [],
   "source": [
    "c) do lemmatization. "
   ]
  },
  {
   "cell_type": "code",
   "execution_count": 152,
   "metadata": {},
   "outputs": [
    {
     "data": {
      "text/plain": [
       "['Rivian',\n",
       " 'report',\n",
       " 'finish',\n",
       " 'the',\n",
       " 'second',\n",
       " 'quarter',\n",
       " 'with',\n",
       " 'about',\n",
       " '$',\n",
       " '15.5',\n",
       " 'billion',\n",
       " 'in',\n",
       " 'cash',\n",
       " 'and',\n",
       " 'cash',\n",
       " 'equivalent',\n",
       " 'on',\n",
       " 'hand',\n",
       " '.',\n",
       " 'Lucid',\n",
       " ',',\n",
       " 'which',\n",
       " 'report',\n",
       " '$',\n",
       " '4.6',\n",
       " 'billion',\n",
       " 'cash',\n",
       " 'on',\n",
       " 'hand',\n",
       " 'at',\n",
       " 'the',\n",
       " 'end',\n",
       " 'of',\n",
       " 'June',\n",
       " ',',\n",
       " 'file',\n",
       " 'a',\n",
       " 'shelf',\n",
       " 'agreement',\n",
       " 'last',\n",
       " 'week',\n",
       " 'that',\n",
       " 'it',\n",
       " 'say',\n",
       " 'would',\n",
       " 'allow',\n",
       " 'it',\n",
       " 'to',\n",
       " 'raise',\n",
       " 'an',\n",
       " 'additional',\n",
       " '$',\n",
       " '8',\n",
       " 'billion',\n",
       " 'over',\n",
       " 'the',\n",
       " 'next',\n",
       " 'three',\n",
       " 'year',\n",
       " '.',\n",
       " '\\xa0']"
      ]
     },
     "execution_count": 152,
     "metadata": {},
     "output_type": "execute_result"
    }
   ],
   "source": [
    "lemmatizer = nlp.get_pipe(\"lemmatizer\")\n",
    "doc = nlp(Q3text)\n",
    "token_lemma = [token.lemma_ for token in doc]\n",
    "token_lemma\n",
    "\n"
   ]
  },
  {
   "cell_type": "markdown",
   "metadata": {},
   "source": [
    "#### Q4\n",
    "Replace the words that starts with a capital with their initials. For example, George will be replaced by G. (The problem is similar to the example of Text Munging on https://docs.python.org/3/library/re.html .)"
   ]
  },
  {
   "cell_type": "code",
   "execution_count": 215,
   "metadata": {},
   "outputs": [],
   "source": [
    "Text = \"\"\"WSJ’s George Downs breaks down the new rules and what it means for the EV industry.\"\"\""
   ]
  },
  {
   "cell_type": "code",
   "execution_count": 216,
   "metadata": {},
   "outputs": [
    {
     "name": "stdout",
     "output_type": "stream",
     "text": [
      "WSJ’s George Downs breaks down the new rules and what it means for the EV industry.\n"
     ]
    }
   ],
   "source": [
    "print(Text)"
   ]
  },
  {
   "cell_type": "code",
   "execution_count": 223,
   "metadata": {},
   "outputs": [
    {
     "data": {
      "text/plain": [
       "'WSJ’s GD breaks down the new rules and what it means for the EV industry.'"
      ]
     },
     "execution_count": 223,
     "metadata": {},
     "output_type": "execute_result"
    }
   ],
   "source": [
    "result = re.sub('[A-Z]{1}\\w*\\s+[A-Z]\\w*', lambda a: \"\".join(x[0] for x in a.group().split()), Text)\n",
    "result"
   ]
  },
  {
   "cell_type": "code",
   "execution_count": null,
   "metadata": {},
   "outputs": [],
   "source": []
  }
 ],
 "metadata": {
  "kernelspec": {
   "display_name": "Python 3",
   "language": "python",
   "name": "python3"
  },
  "language_info": {
   "codemirror_mode": {
    "name": "ipython",
    "version": 3
   },
   "file_extension": ".py",
   "mimetype": "text/x-python",
   "name": "python",
   "nbconvert_exporter": "python",
   "pygments_lexer": "ipython3",
   "version": "3.6.5"
  }
 },
 "nbformat": 4,
 "nbformat_minor": 5
}
